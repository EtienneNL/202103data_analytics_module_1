{
 "cells": [
  {
   "cell_type": "markdown",
   "metadata": {
    "Collapsed": "false"
   },
   "source": [
    "# Additional Challenge for the Nerds"
   ]
  },
  {
   "cell_type": "markdown",
   "metadata": {
    "Collapsed": "false"
   },
   "source": [
    "### 1.- Create a new file called test.txt\n",
    "\n",
    "The command to create a new file called test.txt in IronHack-Data-Module-1/18.-API-Scavenger-Game/your-code is:"
   ]
  },
  {
   "cell_type": "markdown",
   "metadata": {
    "Collapsed": "false"
   },
   "source": [
    "````\n",
    "curl -i -X PUT -H 'Authorization: token <token>' -d '{\"path\": \"test.txt\", \"message\": \"Initial commit\", \"committer\": {\"name\": \"Eva\", \"email\": \"fakemail@fakemail.com\"}, \"content\": \"SGkgRXZhISBZb3UgZGlkIGl0IQ==\", \"branch\": \"master\"}' https://api.github.com/repos/evapanizo/IronHack-Data-Module-1/contents/18.-API-Scavenger-Game/your-code/test.txt  \n",
    "````"
   ]
  },
  {
   "cell_type": "markdown",
   "metadata": {
    "Collapsed": "false"
   },
   "source": [
    "Notice that you have to change the value of < token > with the value of your API key."
   ]
  },
  {
   "cell_type": "code",
   "execution_count": null,
   "metadata": {},
   "outputs": [],
   "source": []
  },
  {
   "cell_type": "code",
   "execution_count": null,
   "metadata": {},
   "outputs": [],
   "source": []
  },
  {
   "cell_type": "code",
   "execution_count": null,
   "metadata": {},
   "outputs": [],
   "source": []
  }
 ],
 "metadata": {
  "kernelspec": {
   "display_name": "Python 3",
   "language": "python",
   "name": "python3"
  },
  "language_info": {
   "codemirror_mode": {
    "name": "ipython",
    "version": 3
   },
   "file_extension": ".py",
   "mimetype": "text/x-python",
   "name": "python",
   "nbconvert_exporter": "python",
   "pygments_lexer": "ipython3",
   "version": "3.7.6"
  }
 },
 "nbformat": 4,
 "nbformat_minor": 4
}
