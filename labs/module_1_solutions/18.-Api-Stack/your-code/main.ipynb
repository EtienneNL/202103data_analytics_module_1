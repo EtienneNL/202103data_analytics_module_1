{
 "cells": [
  {
   "cell_type": "markdown",
   "metadata": {
    "Collapsed": "false"
   },
   "source": [
    "# StackAPI\n",
    "\n",
    "#### Import the necessary libraries here:"
   ]
  },
  {
   "cell_type": "code",
   "execution_count": 1,
   "metadata": {
    "Collapsed": "false"
   },
   "outputs": [],
   "source": [
    "import pandas as pd\n",
    "import datetime"
   ]
  },
  {
   "cell_type": "code",
   "execution_count": 2,
   "metadata": {
    "Collapsed": "false"
   },
   "outputs": [],
   "source": [
    "# import the necessary libraries here\n",
    "from stackapi import StackAPI"
   ]
  },
  {
   "cell_type": "code",
   "execution_count": 3,
   "metadata": {
    "Collapsed": "false"
   },
   "outputs": [],
   "source": [
    "# run the code below\n",
    "SITE = StackAPI('stackoverflow')\n",
    "comments = SITE.fetch('comments')"
   ]
  },
  {
   "cell_type": "markdown",
   "metadata": {
    "Collapsed": "false"
   },
   "source": [
    "Before you start with the lab, please be aware that all the relevant information regarding the StackAPI can be found here: https://stackapi.readthedocs.io/en/latest/user/advanced.html#calling-fetch-with-various-api-parameters"
   ]
  },
  {
   "cell_type": "markdown",
   "metadata": {
    "Collapsed": "false"
   },
   "source": [
    "#### Question 1: Find the questions and answers of last month.\n",
    "\n",
    "*hint*: use the fromdate and todate arguments."
   ]
  },
  {
   "cell_type": "code",
   "execution_count": 4,
   "metadata": {
    "Collapsed": "false"
   },
   "outputs": [],
   "source": [
    "# your code here\n",
    "questions = SITE.fetch('questions',fromdate=datetime.date(2020,2,1), todate=datetime.date.today())\n",
    "answers = SITE.fetch('answers',fromdate=datetime.date(2020,2,1), todate=datetime.date.today())"
   ]
  },
  {
   "cell_type": "markdown",
   "metadata": {
    "Collapsed": "false"
   },
   "source": [
    "#### Question 2: Find the most voted question today with at least a score of 5 and tagged with 'python'. "
   ]
  },
  {
   "cell_type": "code",
   "execution_count": 5,
   "metadata": {
    "Collapsed": "false"
   },
   "outputs": [
    {
     "data": {
      "text/plain": [
       "{'backoff': 0,\n",
       " 'has_more': False,\n",
       " 'page': 1,\n",
       " 'quota_max': 300,\n",
       " 'quota_remaining': 300,\n",
       " 'total': 0,\n",
       " 'items': [{'tags': ['python', 'datetime'],\n",
       "   'owner': {'reputation': 616,\n",
       "    'user_id': 3252535,\n",
       "    'user_type': 'registered',\n",
       "    'accept_rate': 89,\n",
       "    'profile_image': 'https://www.gravatar.com/avatar/346a471960881c77bd6822359d873686?s=128&d=identicon&r=PG&f=1',\n",
       "    'display_name': 'ironzionlion',\n",
       "    'link': 'https://stackoverflow.com/users/3252535/ironzionlion'},\n",
       "   'is_answered': True,\n",
       "   'view_count': 69,\n",
       "   'answer_count': 5,\n",
       "   'score': 6,\n",
       "   'last_activity_date': 1598357036,\n",
       "   'creation_date': 1598352924,\n",
       "   'question_id': 63577356,\n",
       "   'content_license': 'CC BY-SA 4.0',\n",
       "   'link': 'https://stackoverflow.com/questions/63577356/get-hour-of-year-from-a-datetime',\n",
       "   'title': 'Get hour of year from a Datetime'},\n",
       "  {'tags': ['python', 'python-3.x', 'pandas', 'dataframe'],\n",
       "   'owner': {'reputation': 2406,\n",
       "    'user_id': 8565438,\n",
       "    'user_type': 'registered',\n",
       "    'profile_image': 'https://i.stack.imgur.com/pgbqc.jpg?s=128&g=1',\n",
       "    'display_name': 'zabop',\n",
       "    'link': 'https://stackoverflow.com/users/8565438/zabop'},\n",
       "   'is_answered': True,\n",
       "   'view_count': 47,\n",
       "   'answer_count': 5,\n",
       "   'score': 5,\n",
       "   'last_activity_date': 1598376920,\n",
       "   'creation_date': 1598373865,\n",
       "   'question_id': 63583502,\n",
       "   'content_license': 'CC BY-SA 4.0',\n",
       "   'link': 'https://stackoverflow.com/questions/63583502/how-to-remove-duplicate-values-from-each-row-in-a-pandas-dataframe',\n",
       "   'title': 'How to remove duplicate values from each row in a Pandas dataframe?'}]}"
      ]
     },
     "execution_count": 5,
     "metadata": {},
     "output_type": "execute_result"
    }
   ],
   "source": [
    "# your code here\n",
    "questions = SITE.fetch('questions',fromdate=datetime.date.today(), tagged='python',min=5, sort='votes')\n",
    "questions\n",
    "#there are none with 5 votes"
   ]
  },
  {
   "cell_type": "code",
   "execution_count": 6,
   "metadata": {
    "Collapsed": "false"
   },
   "outputs": [
    {
     "data": {
      "text/plain": [
       "{'tags': ['python', 'datetime'],\n",
       " 'owner': {'reputation': 616,\n",
       "  'user_id': 3252535,\n",
       "  'user_type': 'registered',\n",
       "  'accept_rate': 89,\n",
       "  'profile_image': 'https://www.gravatar.com/avatar/346a471960881c77bd6822359d873686?s=128&d=identicon&r=PG&f=1',\n",
       "  'display_name': 'ironzionlion',\n",
       "  'link': 'https://stackoverflow.com/users/3252535/ironzionlion'},\n",
       " 'is_answered': True,\n",
       " 'view_count': 69,\n",
       " 'answer_count': 5,\n",
       " 'score': 6,\n",
       " 'last_activity_date': 1598357036,\n",
       " 'creation_date': 1598352924,\n",
       " 'question_id': 63577356,\n",
       " 'content_license': 'CC BY-SA 4.0',\n",
       " 'link': 'https://stackoverflow.com/questions/63577356/get-hour-of-year-from-a-datetime',\n",
       " 'title': 'Get hour of year from a Datetime'}"
      ]
     },
     "execution_count": 6,
     "metadata": {},
     "output_type": "execute_result"
    }
   ],
   "source": [
    "questions = SITE.fetch('questions',fromdate=datetime.date.today(), tagged='python',min=4, sort='votes')\n",
    "#there is with 4\n",
    "questions['items'][0]"
   ]
  },
  {
   "cell_type": "markdown",
   "metadata": {
    "Collapsed": "false"
   },
   "source": [
    "#### Question 3: Find the answers with id 6784 and 6473."
   ]
  },
  {
   "cell_type": "code",
   "execution_count": 7,
   "metadata": {
    "Collapsed": "false"
   },
   "outputs": [
    {
     "data": {
      "text/plain": [
       "{'backoff': 0,\n",
       " 'has_more': False,\n",
       " 'page': 1,\n",
       " 'quota_max': 300,\n",
       " 'quota_remaining': 300,\n",
       " 'total': 0,\n",
       " 'items': [{'owner': {'reputation': 29045,\n",
       "    'user_id': 758,\n",
       "    'user_type': 'registered',\n",
       "    'accept_rate': 77,\n",
       "    'profile_image': 'https://www.gravatar.com/avatar/0b4adc19284ed0751844d610555dc6b2?s=128&d=identicon&r=PG',\n",
       "    'display_name': 'Mark Renouf',\n",
       "    'link': 'https://stackoverflow.com/users/758/mark-renouf'},\n",
       "   'is_accepted': False,\n",
       "   'score': 0,\n",
       "   'last_activity_date': 1218291583,\n",
       "   'creation_date': 1218291583,\n",
       "   'answer_id': 6784,\n",
       "   'question_id': 6778,\n",
       "   'content_license': 'CC BY-SA 2.5'}]}"
      ]
     },
     "execution_count": 7,
     "metadata": {},
     "output_type": "execute_result"
    }
   ],
   "source": [
    "# your code here\n",
    "answers = SITE.fetch('answers',ids=[6784, 6473])\n",
    "answers"
   ]
  }
 ],
 "metadata": {
  "kernelspec": {
   "display_name": "Python 3",
   "language": "python",
   "name": "python3"
  },
  "language_info": {
   "codemirror_mode": {
    "name": "ipython",
    "version": 3
   },
   "file_extension": ".py",
   "mimetype": "text/x-python",
   "name": "python",
   "nbconvert_exporter": "python",
   "pygments_lexer": "ipython3",
   "version": "3.7.6"
  }
 },
 "nbformat": 4,
 "nbformat_minor": 4
}
